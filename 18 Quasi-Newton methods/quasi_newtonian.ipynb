{
  "nbformat": 4,
  "nbformat_minor": 0,
  "metadata": {
    "kernelspec": {
      "display_name": "Python 3",
      "language": "python",
      "name": "python3"
    },
    "language_info": {
      "codemirror_mode": {
        "name": "ipython",
        "version": 3
      },
      "file_extension": ".py",
      "mimetype": "text/x-python",
      "name": "python",
      "nbconvert_exporter": "python",
      "pygments_lexer": "ipython3",
      "version": "3.8.3"
    },
    "colab": {
      "name": "quasi-newtonian.ipynb",
      "provenance": [],
      "include_colab_link": true
    }
  },
  "cells": [
    {
      "cell_type": "markdown",
      "metadata": {
        "id": "view-in-github",
        "colab_type": "text"
      },
      "source": [
        "<a href=\"https://colab.research.google.com/github/Ingenjoy/CVX-Optimization/blob/master/18%20Quasi-Newton%20methods/quasi_newtonian.ipynb\" target=\"_parent\"><img src=\"https://colab.research.google.com/assets/colab-badge.svg\" alt=\"Open In Colab\"/></a>"
      ]
    },
    {
      "cell_type": "code",
      "metadata": {
        "id": "-isKuMpolsyS"
      },
      "source": [
        "import numpy as np\n",
        "import matplotlib.pyplot as plt\n",
        "from IPython.display import Image"
      ],
      "execution_count": null,
      "outputs": []
    },
    {
      "cell_type": "code",
      "metadata": {
        "id": "gTEYgelulsyW"
      },
      "source": [
        "from sympy import symbols"
      ],
      "execution_count": null,
      "outputs": []
    },
    {
      "cell_type": "code",
      "metadata": {
        "colab": {
          "base_uri": "https://localhost:8080/",
          "height": 34
        },
        "id": "bG0DVwRrlsyX",
        "outputId": "b70f9441-9d7a-414d-a2e4-ab43af75eb66"
      },
      "source": [
        "Image(\"img1.png\")"
      ],
      "execution_count": null,
      "outputs": [
        {
          "output_type": "execute_result",
          "data": {
            "image/png": "img1.png",
            "text/plain": [
              "<IPython.core.display.Image object>"
            ]
          },
          "metadata": {
            "tags": []
          },
          "execution_count": 8
        }
      ]
    },
    {
      "cell_type": "code",
      "metadata": {
        "colab": {
          "base_uri": "https://localhost:8080/",
          "height": 51
        },
        "id": "AP4lHCbolsyY",
        "outputId": "b4f4abe0-bdb7-4ecb-a002-75bd5bda1eb8"
      },
      "source": [
        "x1 = symbols('x1')\n",
        "x2 = symbols('x2')\n",
        "func = 20 * ((x1-3)**2 - (x2-5)**2) **2 + (x1-1)**3\n",
        "func"
      ],
      "execution_count": null,
      "outputs": [
        {
          "output_type": "execute_result",
          "data": {
            "text/latex": "$\\displaystyle \\left(x_{1} - 1\\right)^{3} + 20 \\left(\\left(x_{1} - 3\\right)^{2} - \\left(x_{2} - 5\\right)^{2}\\right)^{2}$",
            "text/plain": [
              "(x1 - 1)**3 + 20*((x1 - 3)**2 - (x2 - 5)**2)**2"
            ]
          },
          "metadata": {
            "tags": []
          },
          "execution_count": 9
        }
      ]
    },
    {
      "cell_type": "code",
      "metadata": {
        "id": "IHdfgKcPlsyY"
      },
      "source": [
        "def gradient(x):\n",
        "    # x = [x1, x2]\n",
        "    output = np.array([3* (-1 + x[0])**2 + 80 * (-3 + x[0]) *((-3 + x[0])**2 + (-5 + x[1])**2),\\\n",
        "                       80* ((-3 + x[0])**2 + (-5 + x[1])**2) * (-5 + x[1])], dtype=float)\n",
        "    # output = f,i\n",
        "    return output"
      ],
      "execution_count": null,
      "outputs": []
    },
    {
      "cell_type": "code",
      "metadata": {
        "id": "VIEl05hslsyZ"
      },
      "source": [
        "def dfp_newton(x, iters, eps):\n",
        "    lr = 0.2\n",
        "    \n",
        "    H = np.eye(2)*0.5\n",
        "    x_len = x.shape[0]\n",
        "    res = []\n",
        "    for i in range(1, iters):\n",
        "        g = gradient(x)\n",
        "        if np.linalg.norm(g) < eps:\n",
        "            break\n",
        "        p = - np.dot(H, g)\n",
        "        \n",
        "        x_new = x + p * lr\n",
        "        \n",
        "        g_new = gradient(x_new)\n",
        "        y = g_new - g\n",
        "        s = x_new - x\n",
        "        Hy = np.dot(H, y)\n",
        "        y_t_H = np.dot(y, H)\n",
        "        yHy = np.dot(np.dot(y, H), y)\n",
        "        \n",
        "        H = H - Hy.reshape([x_len, 1]) * y_t_H / yHy + s.reshape([x_len, 1]) * s / np.dot(s, y) \n",
        "        res.append(x)\n",
        "        x = x_new\n",
        "    return np.array(res)"
      ],
      "execution_count": null,
      "outputs": []
    },
    {
      "cell_type": "code",
      "metadata": {
        "id": "37JOuJDFlsyZ"
      },
      "source": [
        "iters = 1000\n",
        "x = np.array([10,-5], dtype=float)\n",
        "eps = 1e-7"
      ],
      "execution_count": null,
      "outputs": []
    },
    {
      "cell_type": "code",
      "metadata": {
        "colab": {
          "base_uri": "https://localhost:8080/",
          "height": 296
        },
        "id": "T0cqi3i2lsyZ",
        "outputId": "b1a8e4e8-fb87-44b4-cc86-b90516dc826d"
      },
      "source": [
        "dfp_res = dfp_newton( x, iters, eps)\n",
        "\n",
        "plt.plot(range(len(dfp_res)), dfp_res.T[0],'r', label='x1')\n",
        "plt.plot(range(len(dfp_res)), dfp_res.T[1],'b', label='x2')\n",
        "plt.yscale('log')\n",
        "plt.grid('on')\n",
        "plt.legend()\n",
        "plt.xlabel('epoch')\n",
        "plt.ylabel('value')\n",
        "plt.axhline(5, color='g', ls='dotted')"
      ],
      "execution_count": null,
      "outputs": [
        {
          "output_type": "execute_result",
          "data": {
            "text/plain": [
              "<matplotlib.lines.Line2D at 0x7f9cfdc136d0>"
            ]
          },
          "metadata": {
            "tags": []
          },
          "execution_count": 13
        },
        {
          "output_type": "display_data",
          "data": {
            "image/png": "[encoded data removed]",
            "text/plain": [
              "<Figure size 432x288 with 1 Axes>"
            ]
          },
          "metadata": {
            "tags": [],
            "needs_background": "light"
          }
        }
      ]
    },
    {
      "cell_type": "code",
      "metadata": {
        "id": "RzDGrJXylsyZ"
      },
      "source": [
        "def bdfp_newton( x, iters, eps):\n",
        "    lr = 1\n",
        "    \n",
        "    B =  np.eye(2) * 3\n",
        "    x_len = x.shape[0]\n",
        "    res = []\n",
        "    for i in range(1, iters):\n",
        "        g = gradient(x)\n",
        "        if np.linalg.norm(g) < eps:\n",
        "            break\n",
        "        p = np.linalg.solve(B, g)\n",
        "        \n",
        "        x_new = x - p*lr\n",
        "        g_new = gradient(x_new)\n",
        "        y = g_new - g\n",
        "        s = x_new - x\n",
        "        y_t = y.reshape([x_len, 1])\n",
        "        Bs = np.dot(B, s)\n",
        "        s_t_B = np.dot(s, B)\n",
        "        sBs = np.dot(np.dot(s, B), s)\n",
        "        \n",
        "        B = B - Bs.reshape([x_len, 1]) * s_t_B / sBs + y_t*y/np.dot(y, s) \n",
        "        res.append(x)\n",
        "        x = x_new\n",
        "    return np.array(res)\n",
        "    "
      ],
      "execution_count": null,
      "outputs": []
    },
    {
      "cell_type": "code",
      "metadata": {
        "colab": {
          "base_uri": "https://localhost:8080/",
          "height": 296
        },
        "id": "qw3oTO_4lsya",
        "outputId": "57c9f1d4-19e9-4130-f686-0a456f7db3ef"
      },
      "source": [
        "bdfp_res = bdfp_newton( x, iters, eps)\n",
        "plt.plot(range(len(bdfp_res)), bdfp_res.T[0],'r', label='x1')\n",
        "plt.plot(range(len(bdfp_res)), bdfp_res.T[1],'b', label='x2')\n",
        "plt.yscale('log')\n",
        "plt.grid('on')\n",
        "plt.legend()\n",
        "plt.xlabel('epoch')\n",
        "plt.ylabel('value')\n",
        "plt.axhline(5, color='g', ls='dotted')"
      ],
      "execution_count": null,
      "outputs": [
        {
          "output_type": "execute_result",
          "data": {
            "text/plain": [
              "<matplotlib.lines.Line2D at 0x7f9cf1dd33d0>"
            ]
          },
          "metadata": {
            "tags": []
          },
          "execution_count": 15
        },
        {
          "output_type": "display_data",
          "data": {
            "image/png": "[encoded data removed]",
            "text/plain": [
              "<Figure size 432x288 with 1 Axes>"
            ]
          },
          "metadata": {
            "tags": [],
            "needs_background": "light"
          }
        }
      ]
    },
    {
      "cell_type": "code",
      "metadata": {
        "colab": {
          "base_uri": "https://localhost:8080/",
          "height": 300
        },
        "id": "FNs-UG4Ylsya",
        "outputId": "44495cc5-80c4-4590-ea4a-5a9dd401672a"
      },
      "source": [
        "plt.plot(range(len(dfp_res)), dfp_res.T[0],'r', label='DFP: x1')\n",
        "plt.plot(range(len(dfp_res)), dfp_res.T[1],'b', label='DFP: x2')\n",
        "plt.plot(range(len(bdfp_res)), bdfp_res.T[0],'r', label='BFGS: x1', ls='dashed')\n",
        "plt.plot(range(len(bdfp_res)), bdfp_res.T[1],'b', label='BFGS: x2', ls='dashed')\n",
        "#plt.yscale('log')\n",
        "plt.grid('on')\n",
        "plt.legend()\n",
        "plt.xlabel('epoch')\n",
        "plt.ylabel('value')\n",
        "plt.axhline(5, color='g', ls='dotted')\n",
        "plt.ylim([-10,10])"
      ],
      "execution_count": null,
      "outputs": [
        {
          "output_type": "execute_result",
          "data": {
            "text/plain": [
              "(-10.0, 10.0)"
            ]
          },
          "metadata": {
            "tags": []
          },
          "execution_count": 16
        },
        {
          "output_type": "display_data",
          "data": {
            "image/png": "[encoded data removed]",
            "text/plain": [
              "<Figure size 432x288 with 1 Axes>"
            ]
          },
          "metadata": {
            "tags": [],
            "needs_background": "light"
          }
        }
      ]
    },
    {
      "cell_type": "code",
      "metadata": {
        "colab": {
          "base_uri": "https://localhost:8080/"
        },
        "id": "M04Y_y0Ylsya",
        "outputId": "57c1d534-d8ba-4c56-d741-5a0fbd04d3a4"
      },
      "source": [
        "np.linalg.norm(gradient(bdfp_res[-1]))"
      ],
      "execution_count": null,
      "outputs": [
        {
          "output_type": "execute_result",
          "data": {
            "text/plain": [
              "3.0104446827792454e-06"
            ]
          },
          "metadata": {
            "tags": []
          },
          "execution_count": 17
        }
      ]
    },
    {
      "cell_type": "code",
      "metadata": {
        "colab": {
          "base_uri": "https://localhost:8080/"
        },
        "id": "H_T6qWAqlsyb",
        "outputId": "081a10bc-8f31-400d-f64f-b70feef7c48c"
      },
      "source": [
        "np.linalg.norm(gradient(dfp_res[-1]))"
      ],
      "execution_count": null,
      "outputs": [
        {
          "output_type": "execute_result",
          "data": {
            "text/plain": [
              "4107635.5874643847"
            ]
          },
          "metadata": {
            "tags": []
          },
          "execution_count": 18
        }
      ]
    },
    {
      "cell_type": "code",
      "metadata": {
        "id": "DSy0l-J1lsyb"
      },
      "source": [
        ""
      ],
      "execution_count": null,
      "outputs": []
    }
  ]
}